{
  "cells": [
    {
      "cell_type": "markdown",
      "metadata": {
        "id": "D3C4Rj1DhqWg"
      },
      "source": [
        "Implement initial model training with scikit-learn\n",
        "\n"
      ]
    },
    {
      "cell_type": "code",
      "execution_count": 1,
      "metadata": {},
      "outputs": [
        {
          "name": "stdout",
          "output_type": "stream",
          "text": [
            "Sklearn Results:\n",
            "theta0: 0.069942\n",
            "theta1: 1.201920\n",
            "cost: 0.004962\n"
          ]
        }
      ],
      "source": [
        "import pandas as pd\n",
        "import numpy as np\n",
        "from sklearn.linear_model import LinearRegression\n",
        "from sklearn.metrics import mean_squared_error\n",
        "\n",
        "def get_sklearn_results(csv_path, x_column, y_column):\n",
        "    # Load and clean data\n",
        "    df = pd.read_csv(csv_path)\n",
        "    X = df[x_column].values.reshape(-1, 1)\n",
        "    y = df[y_column].values\n",
        "    \n",
        "    # Remove NaN values\n",
        "    mask = ~(np.isnan(X.flatten()) | np.isnan(y))\n",
        "    X_clean = X[mask]\n",
        "    y_clean = y[mask]\n",
        "    \n",
        "    # Fit model\n",
        "    model = LinearRegression()\n",
        "    model.fit(X_clean, y_clean)\n",
        "    \n",
        "    # Get results\n",
        "    theta0 = model.intercept_\n",
        "    theta1 = model.coef_[0]\n",
        "    \n",
        "    # Calculate cost (MSE)\n",
        "    predictions = model.predict(X_clean)\n",
        "    cost = mean_squared_error(y_clean, predictions)\n",
        "    \n",
        "    print(f\"Sklearn Results:\")\n",
        "    print(f\"theta0: {theta0:.6f}\")\n",
        "    print(f\"theta1: {theta1:.6f}\")\n",
        "    print(f\"cost: {cost:.6f}\")\n",
        "    \n",
        "    return theta0, theta1, cost\n",
        "\n",
        "# Usage:\n",
        "theta0, theta1, cost = get_sklearn_results(\"/home/rameel/Downloads/Dataset.csv\", \"16\", \"18\")"
      ]
    },
    {
      "cell_type": "code",
      "execution_count": null,
      "metadata": {},
      "outputs": [],
      "source": []
    }
  ],
  "metadata": {
    "colab": {
      "provenance": []
    },
    "kernelspec": {
      "display_name": "base",
      "language": "python",
      "name": "python3"
    },
    "language_info": {
      "codemirror_mode": {
        "name": "ipython",
        "version": 3
      },
      "file_extension": ".py",
      "mimetype": "text/x-python",
      "name": "python",
      "nbconvert_exporter": "python",
      "pygments_lexer": "ipython3",
      "version": "3.12.7"
    }
  },
  "nbformat": 4,
  "nbformat_minor": 0
}
